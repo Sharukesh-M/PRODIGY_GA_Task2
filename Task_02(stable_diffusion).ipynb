{
  "nbformat": 4,
  "nbformat_minor": 0,
  "metadata": {
    "colab": {
      "provenance": [],
      "authorship_tag": "ABX9TyO09O0ZD+8qy/q/tGqYse3r",
      "include_colab_link": true
    },
    "kernelspec": {
      "name": "python3",
      "display_name": "Python 3"
    },
    "language_info": {
      "name": "python"
    }
  },
  "cells": [
    {
      "cell_type": "markdown",
      "metadata": {
        "id": "view-in-github",
        "colab_type": "text"
      },
      "source": [
        "<a href=\"https://colab.research.google.com/github/Sharukesh-M/PRODIGY_GA_Task2/blob/main/Task_02(stable_diffusion).ipynb\" target=\"_parent\"><img src=\"https://colab.research.google.com/assets/colab-badge.svg\" alt=\"Open In Colab\"/></a>"
      ]
    },
    {
      "cell_type": "code",
      "execution_count": null,
      "metadata": {
        "id": "_x4wgnExoftx"
      },
      "outputs": [],
      "source": [
        "!pip install -q diffusers transformers accelerate\n",
        "from diffusers import StableDiffusionPipeline\n",
        "import torch\n",
        "from PIL import Image\n",
        "import matplotlib.pyplot as plt\n",
        "\n",
        "pipe = StableDiffusionPipeline.from_pretrained(\"runwayml/stable-diffusion-v1-5\", torch_dtype=torch.float16)\n",
        "pipe = pipe.to(\"cuda\")\n",
        "\n",
        "prompt = \"a photorealistic image of a futuristic city skyline at sunset with flying cars and neon lights\"\n",
        "image = pipe(prompt, guidance_scale=8.5).images[0]\n",
        "\n",
        "# Show image\n",
        "plt.imshow(image)\n",
        "plt.axis(\"off\")\n",
        "plt.show()\n",
        "\n",
        "prompt = \"A cartoon style dog wearing sunglasses and riding askateboard at the beach\"\n",
        "image = pipe(prompt, guidance_scale=8.5).images[0]\n",
        "\n",
        "# Show image\n",
        "plt.imshow(image)\n",
        "plt.axis(\"off\")\n",
        "plt.show()"
      ]
    }
  ]
}